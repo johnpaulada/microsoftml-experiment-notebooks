{
 "cells": [
  {
   "cell_type": "markdown",
   "metadata": {},
   "source": [
    "# BASS Experiment\n",
    "***TODO: Make this functional!***"
   ]
  },
  {
   "cell_type": "markdown",
   "metadata": {},
   "source": [
    "## Import Libs\n",
    "For this project, we don't need anything too fancy. Just the math, numpy, and pandas libraries."
   ]
  },
  {
   "cell_type": "code",
   "execution_count": 475,
   "metadata": {
    "collapsed": true
   },
   "outputs": [],
   "source": [
    "import pandas as pd\n",
    "import numpy as np\n",
    "import math"
   ]
  },
  {
   "cell_type": "markdown",
   "metadata": {},
   "source": [
    "## Get Data\n",
    "### Display a maximum of 50 columns\n",
    "The dataset has 50 columns. Pandas hides columns when there are too many.\n",
    "\n",
    "To view them all, we need to set the maximum viewable columns of Pandas to 50."
   ]
  },
  {
   "cell_type": "code",
   "execution_count": 476,
   "metadata": {},
   "outputs": [],
   "source": [
    "pd.options.display.max_columns = 50"
   ]
  },
  {
   "cell_type": "markdown",
   "metadata": {},
   "source": [
    "### Import data from BASS csv file\n",
    "Data copied from: [https://bass.bnshosting.net/api/scanresults?_format=csv](https://bass.bnshosting.net/api/scanresults?_format=csv)"
   ]
  },
  {
   "cell_type": "code",
   "execution_count": 477,
   "metadata": {},
   "outputs": [
    {
     "name": "stderr",
     "output_type": "stream",
     "text": [
      "/opt/microsoft/mlserver/9.2.1/runtime/python/lib/python3.5/site-packages/IPython/core/interactiveshell.py:2717: DtypeWarning: Columns (5,8,9,11,13) have mixed types. Specify dtype option on import or set low_memory=False.\n",
      "  interactivity=interactivity, compiler=compiler, result=result)\n"
     ]
    }
   ],
   "source": [
    "data = pd.read_csv('./scan_results.csv')"
   ]
  },
  {
   "cell_type": "markdown",
   "metadata": {},
   "source": [
    "## Clean data"
   ]
  },
  {
   "cell_type": "markdown",
   "metadata": {},
   "source": [
    "### Get only the columns needed\n",
    "Ignore the columns we don't need. We only need these columns to clean our data and to find the best connection."
   ]
  },
  {
   "cell_type": "code",
   "execution_count": 478,
   "metadata": {
    "collapsed": true
   },
   "outputs": [],
   "source": [
    "needed_data = data.ix[:, ('BANDWIDTH', 'OPERATOR', 'CONNECTIVITY_extraInfo', 'LOCATION_mLatitude', 'LOCATION_mLongitude', 'CONNECTIVITY_typeName')]"
   ]
  },
  {
   "cell_type": "markdown",
   "metadata": {},
   "source": [
    "### Remove WIFI-connected data\n",
    "We focus on the data from mobile sources rather than from the ones from WiFI."
   ]
  },
  {
   "cell_type": "code",
   "execution_count": 479,
   "metadata": {
    "collapsed": true
   },
   "outputs": [],
   "source": [
    "needed_data = needed_data[needed_data['CONNECTIVITY_typeName'] == 'MOBILE']"
   ]
  },
  {
   "cell_type": "markdown",
   "metadata": {},
   "source": [
    "### Transform  `CONNECTIVITY_extraInfo` and `OPERATOR` values"
   ]
  },
  {
   "cell_type": "markdown",
   "metadata": {},
   "source": [
    "#### Create table for simplifying values"
   ]
  },
  {
   "cell_type": "code",
   "execution_count": 480,
   "metadata": {
    "collapsed": true
   },
   "outputs": [],
   "source": [
    "operator_values = [(\"smart\", \"smart\"), (\"globe\", \"globe\"), (\"talk\", \"tnt\"), (\"TNT\", \"tnt\"), (\"tm\", \"tm\"), (\"sun\", \"sun\")]\n",
    "extrainfo_values = [(\"internet.globe.com.ph\", \"globe\")]"
   ]
  },
  {
   "cell_type": "markdown",
   "metadata": {},
   "source": [
    "#### Define force_value function and helpers\n",
    "`force_value` replaces a string with another string if it contains a certain string.\n",
    "\n",
    "Example:\n",
    "```python\n",
    "force_value(\"globe telecom\", operator_values) # This will result in \"globe\"\n",
    "```"
   ]
  },
  {
   "cell_type": "code",
   "execution_count": 481,
   "metadata": {
    "collapsed": true
   },
   "outputs": [],
   "source": [
    "def force_value(operator, values):\n",
    "    if operator is None:\n",
    "        return \"invalid\"\n",
    "    for contained, forced in values:\n",
    "        if contained in str(operator).lower():\n",
    "            return forced\n",
    "    return \"invalid\"\n",
    "\n",
    "def force_operator(x):\n",
    "    return force_value(x, operator_values)\n",
    "    \n",
    "def force_extrainfo(x):\n",
    "    return force_value(x, extrainfo_values)"
   ]
  },
  {
   "cell_type": "markdown",
   "metadata": {},
   "source": [
    "#### Apply transformation"
   ]
  },
  {
   "cell_type": "markdown",
   "metadata": {},
   "source": [
    "##### Transform `OPERATOR` column to accepted values"
   ]
  },
  {
   "cell_type": "code",
   "execution_count": 482,
   "metadata": {
    "collapsed": true
   },
   "outputs": [],
   "source": [
    "needed_data['OPERATOR'] = needed_data['OPERATOR'].apply(force_operator)"
   ]
  },
  {
   "cell_type": "markdown",
   "metadata": {},
   "source": [
    "##### Transform `CONNECTIVITY_extraInfo` column to accepted values"
   ]
  },
  {
   "cell_type": "code",
   "execution_count": 483,
   "metadata": {
    "collapsed": true
   },
   "outputs": [],
   "source": [
    "needed_data['CONNECTIVITY_extraInfo'] = needed_data['CONNECTIVITY_extraInfo'].apply(force_extrainfo)"
   ]
  },
  {
   "cell_type": "markdown",
   "metadata": {},
   "source": [
    "### Filter rows with only valid values"
   ]
  },
  {
   "cell_type": "markdown",
   "metadata": {},
   "source": [
    "#### Define filter functions"
   ]
  },
  {
   "cell_type": "code",
   "execution_count": 484,
   "metadata": {
    "collapsed": true
   },
   "outputs": [],
   "source": [
    "def not_invalid_str(x):\n",
    "    return x != \"invalid\"\n",
    "\n",
    "def not_null_str(x):\n",
    "    return x != \"null\"\n",
    "\n",
    "def string_type(x):\n",
    "    return type(x) == str\n",
    "\n",
    "def not_zero(x):\n",
    "    return x != 0\n",
    "\n",
    "def bandwidth_to_float(x):\n",
    "    return float(x.replace(\" Kbps\", \"\"))\n",
    "\n",
    "def filter_bandwidth(bandwidth):\n",
    "    if type(bandwidth) == str and \"Kbps\" not in bandwidth:\n",
    "        return \"invalid\"\n",
    "    else:\n",
    "        return bandwidth"
   ]
  },
  {
   "cell_type": "markdown",
   "metadata": {},
   "source": [
    "#### Remove invalid rows by with filters for invalid data"
   ]
  },
  {
   "cell_type": "code",
   "execution_count": 485,
   "metadata": {},
   "outputs": [],
   "source": [
    "operator_filter  = needed_data['OPERATOR'].apply(not_invalid_str)\n",
    "extrainfo_filter = needed_data['CONNECTIVITY_extraInfo'].apply(not_invalid_str)\n",
    "latitude_filter  = needed_data['LOCATION_mLatitude'].apply(not_null_str)\n",
    "longitude_filter = needed_data['LOCATION_mLongitude'].apply(not_null_str)\n",
    "bandwidth_filter = needed_data['BANDWIDTH'].apply(string_type)\n",
    "combined_filters = np.logical_and.reduce((operator_filter, extrainfo_filter, latitude_filter, longitude_filter, bandwidth_filter))\n",
    "filtered_data = needed_data[combined_filters]"
   ]
  },
  {
   "cell_type": "markdown",
   "metadata": {},
   "source": [
    "#### Removed 'Kbps' from `BANDWIDTH` data"
   ]
  },
  {
   "cell_type": "code",
   "execution_count": 486,
   "metadata": {},
   "outputs": [
    {
     "name": "stderr",
     "output_type": "stream",
     "text": [
      "/opt/microsoft/mlserver/9.2.1/runtime/python/lib/python3.5/site-packages/ipykernel/__main__.py:1: SettingWithCopyWarning: \n",
      "A value is trying to be set on a copy of a slice from a DataFrame.\n",
      "Try using .loc[row_indexer,col_indexer] = value instead\n",
      "\n",
      "See the caveats in the documentation: http://pandas.pydata.org/pandas-docs/stable/indexing.html#indexing-view-versus-copy\n",
      "  if __name__ == '__main__':\n",
      "/opt/microsoft/mlserver/9.2.1/runtime/python/lib/python3.5/site-packages/ipykernel/__main__.py:2: SettingWithCopyWarning: \n",
      "A value is trying to be set on a copy of a slice from a DataFrame.\n",
      "Try using .loc[row_indexer,col_indexer] = value instead\n",
      "\n",
      "See the caveats in the documentation: http://pandas.pydata.org/pandas-docs/stable/indexing.html#indexing-view-versus-copy\n",
      "  from ipykernel import kernelapp as app\n"
     ]
    }
   ],
   "source": [
    "filtered_data['BANDWIDTH'] = filtered_data['BANDWIDTH'].apply(filter_bandwidth)\n",
    "filtered_data['BANDWIDTH'] = filtered_data['BANDWIDTH'].apply(bandwidth_to_float)"
   ]
  },
  {
   "cell_type": "markdown",
   "metadata": {},
   "source": [
    "### Define Euclidean distance function\n",
    "We need the Euclidean `get_distance` function to get the distances between the other points from the given point."
   ]
  },
  {
   "cell_type": "code",
   "execution_count": 487,
   "metadata": {
    "collapsed": true
   },
   "outputs": [],
   "source": [
    "X = 0\n",
    "Y = 1\n",
    "def get_distance(coords, target_coords):\n",
    "    return math.sqrt(((coords[X] - target_coords[X]) ** 2) + ((coords[Y] - target_coords[Y]) ** 2))"
   ]
  },
  {
   "cell_type": "markdown",
   "metadata": {},
   "source": [
    "## Define function for getting best operator"
   ]
  },
  {
   "cell_type": "code",
   "execution_count": 488,
   "metadata": {},
   "outputs": [],
   "source": [
    "def get_best_operator(data, latitude, longitude, k=10):\n",
    "    # Create a new `DISTANCE` column which is the distance of each point to the current location.\n",
    "    data[\"DISTANCE\"] = data[[\"LOCATION_mLatitude\", \"LOCATION_mLongitude\"]].apply(lambda x: get_distance((float(x[\"LOCATION_mLatitude\"]), float(x[\"LOCATION_mLongitude\"])), (latitude, longitude)), axis=1)\n",
    "    \n",
    "    # Remove all measurements from the current location, i.e., euclidean distance is zero\n",
    "    all_points_not_including_itself = data[data[\"DISTANCE\"].apply(not_zero)]\n",
    "    \n",
    "    # Sort data in ascending order according to distance\n",
    "    sorted_according_to_distance = all_points_not_including_itself.sort_values(\"DISTANCE\")\n",
    "    \n",
    "    # Get nearest k locations -- default k is 10\n",
    "    nearest_k_points = sorted_according_to_distance[:k]\n",
    "    \n",
    "    # Sort according to bandwidth in descending order\n",
    "    sorted_according_to_bandwidth = nearest_k_points.sort_values(\"BANDWIDTH\", ascending=False)\n",
    "    \n",
    "    # Get first row\n",
    "    target_row = sorted_according_to_bandwidth[:1]\n",
    "    \n",
    "    # Get OPERATOR column\n",
    "    target_column = target_row[\"OPERATOR\"]\n",
    "    \n",
    "    # Target value\n",
    "    target = target_column.iloc[0]\n",
    "    \n",
    "    # Target value in upper case\n",
    "    target_uppercase = target.upper()\n",
    "    \n",
    "    return target_uppercase"
   ]
  },
  {
   "cell_type": "markdown",
   "metadata": {},
   "source": [
    "### Run on given latitude and longitude"
   ]
  },
  {
   "cell_type": "code",
   "execution_count": 489,
   "metadata": {},
   "outputs": [
    {
     "name": "stderr",
     "output_type": "stream",
     "text": [
      "/opt/microsoft/mlserver/9.2.1/runtime/python/lib/python3.5/site-packages/ipykernel/__main__.py:3: SettingWithCopyWarning: \n",
      "A value is trying to be set on a copy of a slice from a DataFrame.\n",
      "Try using .loc[row_indexer,col_indexer] = value instead\n",
      "\n",
      "See the caveats in the documentation: http://pandas.pydata.org/pandas-docs/stable/indexing.html#indexing-view-versus-copy\n",
      "  app.launch_new_instance()\n"
     ]
    },
    {
     "data": {
      "text/plain": [
       "'GLOBE'"
      ]
     },
     "execution_count": 489,
     "metadata": {},
     "output_type": "execute_result"
    }
   ],
   "source": [
    "latitude = 11.24079\n",
    "longitude = 125.00229\n",
    "get_best_operator(filtered_data, latitude, longitude)"
   ]
  }
 ],
 "metadata": {
  "kernelspec": {
   "display_name": "Python [conda root]",
   "language": "python",
   "name": "conda-root-py"
  },
  "language_info": {
   "codemirror_mode": {
    "name": "ipython",
    "version": 3
   },
   "file_extension": ".py",
   "mimetype": "text/x-python",
   "name": "python",
   "nbconvert_exporter": "python",
   "pygments_lexer": "ipython3",
   "version": "3.5.2"
  }
 },
 "nbformat": 4,
 "nbformat_minor": 1
}
