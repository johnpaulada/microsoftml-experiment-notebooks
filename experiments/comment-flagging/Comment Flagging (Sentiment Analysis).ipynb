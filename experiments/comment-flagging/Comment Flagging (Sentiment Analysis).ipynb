{
 "cells": [
  {
   "cell_type": "markdown",
   "metadata": {},
   "source": [
    "# Comment Flagging Example (Sentiment Analysis with Microsoft ML)\n",
    "This example gets a bunch of comments from a CSV file and flags them if they are negative using Microsoft ML's pretrained sentiment analysis model. The goal is to show you how easy it is to do sentiment analysis in Microsoft ML.\n",
    "\n",
    "*This was inspired by the [`get_sentiment` docs example](https://docs.microsoft.com/en-us/machine-learning-server/python-reference/microsoftml/get-sentiment#example).*"
   ]
  },
  {
   "cell_type": "markdown",
   "metadata": {},
   "source": [
    "## Import Pandas and MicrosoftML functions"
   ]
  },
  {
   "cell_type": "code",
   "execution_count": 2,
   "metadata": {},
   "outputs": [],
   "source": [
    "import pandas\n",
    "from microsoftml import rx_featurize, get_sentiment"
   ]
  },
  {
   "cell_type": "markdown",
   "metadata": {},
   "source": [
    "## Get Data\n",
    "First, we get the comments from the [comments.csv](./comments.csv) file with the Pandas [`read_csv`](https://pandas.pydata.org/pandas-docs/stable/generated/pandas.read_csv.html) function."
   ]
  },
  {
   "cell_type": "code",
   "execution_count": 3,
   "metadata": {},
   "outputs": [],
   "source": [
    "comments = pandas.read_csv('./comments.csv')"
   ]
  },
  {
   "cell_type": "markdown",
   "metadata": {},
   "source": [
    "## Get the sentiment scores\n",
    "After getting the data, we transform our data with Microsoft ML's built-in [`rx_featurize`](https://docs.microsoft.com/en-us/machine-learning-server/python-reference/microsoftml/rx-featurize) function and the [`get_sentiment`](https://docs.microsoft.com/en-us/machine-learning-server/python-reference/microsoftml/get-sentiment) function, which uses a pretrained sentiment analysis model to get the sentiment score of the comments."
   ]
  },
  {
   "cell_type": "code",
   "execution_count": 4,
   "metadata": {
    "scrolled": true
   },
   "outputs": [
    {
     "name": "stdout",
     "output_type": "stream",
     "text": [
      "Beginning processing data.\n",
      "Rows Read: 3, Read Time: 0.000154018, Transform Time: 3.8147e-06\n",
      "Beginning processing data.\n",
      "Elapsed time: 00:00:03.9751764\n",
      "Finished writing 3 rows.\n",
      "Writing completed.\n",
      "==============================\n",
      "             Comments    scores\n",
      "0                 Wut  0.494992\n",
      "1          HAHAHAHAHA  0.500000\n",
      "2  Man that was weird  0.500000\n"
     ]
    }
   ],
   "source": [
    "sentiment_scores = rx_featurize(\n",
    "    data=comments,\n",
    "    ml_transforms=[get_sentiment(cols=dict(scores=\"Comments\"))])\n",
    "print(\"=\"*30)\n",
    "print(sentiment_scores)"
   ]
  },
  {
   "cell_type": "markdown",
   "metadata": {},
   "source": [
    "## Flag negative comments\n",
    "We then apply a function that will add an `IS_FLAGGED` column which will have a value of `True` if the comment has lower than the neutral 0.5 value and `False` if not."
   ]
  },
  {
   "cell_type": "code",
   "execution_count": 5,
   "metadata": {},
   "outputs": [
    {
     "name": "stdout",
     "output_type": "stream",
     "text": [
      "             Comments    scores IS_FLAGGED\n",
      "0                 Wut  0.494992       True\n",
      "1          HAHAHAHAHA  0.500000      False\n",
      "2  Man that was weird  0.500000      False\n"
     ]
    }
   ],
   "source": [
    "sentiment_scores[\"IS_FLAGGED\"] = sentiment_scores.scores.apply(\n",
    "            lambda score: True if score < 0.5 else False)\n",
    "print(sentiment_scores)"
   ]
  }
 ],
 "metadata": {
  "kernelspec": {
   "display_name": "Python [conda root]",
   "language": "python",
   "name": "conda-root-py"
  },
  "language_info": {
   "codemirror_mode": {
    "name": "ipython",
    "version": 3
   },
   "file_extension": ".py",
   "mimetype": "text/x-python",
   "name": "python",
   "nbconvert_exporter": "python",
   "pygments_lexer": "ipython3",
   "version": "3.5.2"
  }
 },
 "nbformat": 4,
 "nbformat_minor": 1
}
